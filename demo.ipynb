{
 "cells": [
  {
   "cell_type": "markdown",
   "metadata": {},
   "source": [
    "# Overview\n",
    "\n",
    "In this notebook we present code for the main results on in-distribution data of the paper.\n"
   ]
  },
  {
   "cell_type": "code",
   "execution_count": 1,
   "metadata": {},
   "outputs": [],
   "source": [
    "from typing import Tuple\n",
    "\n",
    "import numpy as np\n",
    "from scipy.linalg import lstsq\n",
    "from scipy import linalg\n",
    "from tqdm.notebook import tqdm\n",
    "%matplotlib inline\n",
    "import matplotlib.pyplot as plt\n",
    "\n",
    "# import helper function\n",
    "from utils import get_eigenvector_product, get_eigenvalue_dist, get_marchenko_pastur, get_cumulative_marchenko_pastur"
   ]
  },
  {
   "cell_type": "markdown",
   "metadata": {},
   "source": [
    "# Data generator: spiked covariance model"
   ]
  },
  {
   "cell_type": "code",
   "execution_count": 2,
   "metadata": {},
   "outputs": [],
   "source": [
    "def data_spikedcov(n_data_train: int = 200, n_data_test: int = 200,\n",
    "                   n_features: int = 50,\n",
    "                   lambda_spikes: np.ndarray = None,\n",
    "                   sigma_y: float = 0.1, snr_x: float = 1, r_theta: float = 1,\n",
    "                   ) -> Tuple[Tuple[np.ndarray, np.ndarray, np.ndarray, np.ndarray], dict]:\n",
    "    # check input\n",
    "    if lambda_spikes is None:\n",
    "        raise ValueError('lambda_spikes is None and must be defined')\n",
    "    n_spikes = len(lambda_spikes)\n",
    "\n",
    "    #########################################\n",
    "    # sample latent space z\n",
    "    #########################################\n",
    "    # covariance source\n",
    "    cov_z = np.diag(lambda_spikes)\n",
    "    # mean\n",
    "    mean_z = np.zeros(n_spikes)\n",
    "    # sample zS and zT\n",
    "    z_train = np.random.multivariate_normal(mean_z, cov_z, n_data_train)\n",
    "    z_test = np.random.multivariate_normal(mean_z, cov_z, n_data_test)\n",
    "\n",
    "    #########################################\n",
    "    # features x\n",
    "    #########################################\n",
    "    r_w = np.sqrt(snr_x * n_features / np.trace(cov_z))\n",
    "    W = np.eye(n_features, n_spikes)\n",
    "    x_train = z_train @ W.T * r_w + 1 * np.random.randn(n_data_train, n_features)\n",
    "    x_test = z_test @ W.T * r_w + 1 * np.random.randn(n_data_test, n_features)\n",
    "\n",
    "    # covariances\n",
    "    cov_x = np.eye(n_features)\n",
    "    cov_x[:n_spikes, :n_spikes] += cov_z * r_w ** 2\n",
    "\n",
    "    #########################################\n",
    "    # observations y\n",
    "    #########################################\n",
    "    c_theta = r_theta / np.sqrt(np.trace(cov_z))\n",
    "    theta = c_theta * np.ones((n_spikes, 1))\n",
    "    y_train = z_train @ theta + sigma_y * np.random.randn(n_data_train, 1)\n",
    "    y_test = z_test @ theta + sigma_y * np.random.randn(n_data_test, 1)\n",
    "\n",
    "    #########################################\n",
    "    # compute direct model equivalent\n",
    "    #########################################\n",
    "    # equivalent of x->y instead of z->y, z->x\n",
    "    beta = np.linalg.pinv(np.eye(n_features) + r_w ** 2 * W @ cov_z @ W.T) @ W @ cov_z @ theta * r_w\n",
    "    sigma2_nu = sigma_y ** 2 + theta.T @ np.linalg.pinv(np.eye(n_spikes) + r_w ** 2 * cov_z) @ cov_z @ theta\n",
    "\n",
    "    #########################################\n",
    "    # collect all parameters which I would need later\n",
    "    #########################################\n",
    "    parameters = dict()\n",
    "    parameters['cov_z'] = cov_z\n",
    "    parameters['cov_x'] = cov_x\n",
    "\n",
    "    parameters['r_w'] = r_w\n",
    "    parameters['r_theta'] = r_theta\n",
    "    parameters['W'] = W\n",
    "    parameters['theta'] = theta\n",
    "\n",
    "    parameters['beta'] = beta\n",
    "    parameters['sigma2_nu'] = sigma2_nu\n",
    "\n",
    "    return (x_train, y_train, x_test, y_test), parameters"
   ]
  },
  {
   "cell_type": "markdown",
   "metadata": {},
   "source": [
    "# Models"
   ]
  },
  {
   "cell_type": "markdown",
   "metadata": {},
   "source": [
    "## a) PCR model"
   ]
  },
  {
   "cell_type": "code",
   "execution_count": 3,
   "metadata": {},
   "outputs": [],
   "source": [
    "#########################################\n",
    "# Simulation\n",
    "#########################################\n",
    "class ModelPca(object):\n",
    "    def __init__(self, n_components):\n",
    "        super(ModelPca, self).__init__()\n",
    "        \"\"\"\n",
    "        This is a model of the form\n",
    "        input x --[PCA]--> z --[Regression]--> output\n",
    "        \"\"\"\n",
    "        # save to self\n",
    "        self.n_components = n_components\n",
    "        # allocation\n",
    "        self.components = None\n",
    "        self.beta_hat = None\n",
    "\n",
    "    def fit(self, x_train, y_train):\n",
    "        U, S = self.fit_encode(x_train)\n",
    "\n",
    "        # pca transform (unnecessary since we do a more direct way to obtain beta_hat)\n",
    "        # z = x_train @ self.components\n",
    "\n",
    "        # get least squares solution by using pre-computed SVD\n",
    "        self.beta_hat = np.diag(1. / S[:self.n_components]) @ (U[:, :self.n_components].T @ y_train)\n",
    "        # self.beta_hat, _, _, _ = lstsq(z, y_train)\n",
    "\n",
    "    def fit_encode(self, x_train):\n",
    "        # pca fit\n",
    "        U, S, Vt = linalg.svd(x_train, full_matrices=False)\n",
    "        V = Vt.T\n",
    "        self.components = V[:, :self.n_components]\n",
    "        return U, S\n",
    "\n",
    "    def fit_regression(self, x_train, y_train):\n",
    "        # encode\n",
    "        z = self.encode(x_train)\n",
    "        # get least squares solution\n",
    "        self.beta_hat, _, _, _ = lstsq(z, y_train)\n",
    "\n",
    "    def encode(self, x):\n",
    "        z = x @ self.components\n",
    "        return z\n",
    "\n",
    "    def predict(self, x_test):\n",
    "        # transform to latent\n",
    "        z = self.encode(x_test)\n",
    "\n",
    "        # make prediction\n",
    "        y_pred = z @ self.beta_hat\n",
    "\n",
    "        return y_pred\n",
    "\n",
    "    \n",
    "#########################################\n",
    "# Analytical solution\n",
    "#########################################\n",
    "class ModelPcaTheory(object):\n",
    "    def __init__(self, cov_z, r_w, theta, sigma_y, n_spikes):\n",
    "        super(ModelPcaTheory, self).__init__()\n",
    "        self.cov_z = cov_z\n",
    "        self.r_w = r_w\n",
    "        self.theta = theta\n",
    "        self.sigma_y = sigma_y\n",
    "        self.n_spikes = n_spikes\n",
    "        self.P_d = None\n",
    "\n",
    "        self.sigma2_nu = self.compute_noise()\n",
    "\n",
    "    def compute_noise(self):\n",
    "        noise = self.sigma_y ** 2 + self.theta.T @ \\\n",
    "                np.linalg.pinv(np.eye(self.n_spikes) + self.r_w ** 2 * self.cov_z) @ self.cov_z @ self.theta\n",
    "        return noise.item()\n",
    "\n",
    "    def compute_bias(self, gamma, n_components, n_features):\n",
    "        # defs for bias\n",
    "        Lambda_d = self.cov_z * self.r_w ** 2 + np.eye(self.n_spikes)\n",
    "        beta_bar = self.r_w * self.cov_z @ \\\n",
    "                   np.linalg.pinv(np.eye(self.n_spikes) + self.r_w ** 2 * self.cov_z) @ self.theta\n",
    "\n",
    "        # bias\n",
    "        if self.P_d is None:\n",
    "            self.P_d = get_eigenvector_product(gamma=gamma,\n",
    "                                               eigvals=np.diag(self.cov_z) * self.r_w ** 2 + 1.,\n",
    "                                               n_components=n_components,\n",
    "                                               n_features=n_features)\n",
    "        temp = Lambda_d - \\\n",
    "               Lambda_d @ self.P_d - \\\n",
    "               self.P_d @ Lambda_d + \\\n",
    "               self.P_d + self.r_w ** 2 * self.P_d @ self.cov_z @ self.P_d\n",
    "        bias = beta_bar.T @ temp @ beta_bar\n",
    "        return bias.item()\n",
    "\n",
    "    def compute_var(self, gamma, n_components, n_features, n_data_train):\n",
    "        # part 1\n",
    "        spikes_mu = get_eigenvalue_dist(gamma=gamma,\n",
    "                                        eigvals=np.diag(self.cov_z) * self.r_w ** 2 + 1,\n",
    "                                        n_data=None)\n",
    "        if self.P_d is None:\n",
    "            self.P_d = get_eigenvector_product(gamma=gamma,\n",
    "                                               eigvals=np.diag(self.cov_z) * self.r_w ** 2 + 1.,\n",
    "                                               n_components=n_components,\n",
    "                                               n_features=n_features)\n",
    "        temp = self.r_w ** 2 * np.sqrt(self.P_d) @ self.cov_z @ np.sqrt(self.P_d) + np.eye(self.n_spikes)\n",
    "        temp = temp[:min(n_components, self.n_spikes), :min(n_components, self.n_spikes)]\n",
    "        temp = temp * 1 / spikes_mu[:min(n_components, self.n_spikes)]\n",
    "        var_trace = np.trace(temp)\n",
    "        # part 2\n",
    "        cond = 1 - max((n_components - self.n_spikes) / (n_features - self.n_spikes), 0)\n",
    "        if cond < 1.0:\n",
    "            n_eval_points = 1_000_000\n",
    "            gamma_n, gamma_p = (1 - np.sqrt(gamma)) ** 2, (1 + np.sqrt(gamma)) ** 2\n",
    "            x_mp = np.linspace(1e-10, gamma_p, n_eval_points)\n",
    "            # cumulative marchenko pastur distribution\n",
    "            mp_integrand = get_cumulative_marchenko_pastur(x_mp, gamma)\n",
    "            # idx = np.argmin(np.abs(mp_integrand - cond))\n",
    "            idx = np.where(mp_integrand > cond)[0][0]\n",
    "            # integrate over mp * 1/x\n",
    "            x_mp1 = np.linspace(x_mp[idx], gamma_p, n_eval_points)\n",
    "            mp1 = get_marchenko_pastur(x_mp1, gamma)\n",
    "            var_iso = np.trapz(mp1 * 1 / x_mp1, x_mp1)\n",
    "        else:\n",
    "            var_iso = 0\n",
    "        # final variance\n",
    "        var = self.sigma2_nu / n_data_train * (var_trace + (n_features - self.n_spikes) * var_iso)\n",
    "        return var.item()\n",
    "\n",
    "    def compute_risk(self, gamma, n_components, n_features, n_data_train):\n",
    "        return self.compute_bias(gamma, n_components, n_features) + \\\n",
    "            self.compute_var(gamma, n_components, n_features, n_data_train) + \\\n",
    "            self.sigma2_nu"
   ]
  },
  {
   "cell_type": "markdown",
   "metadata": {},
   "source": [
    "## b) Full regression model"
   ]
  },
  {
   "cell_type": "code",
   "execution_count": 4,
   "metadata": {},
   "outputs": [],
   "source": [
    "#########################################\n",
    "# Simulation\n",
    "#########################################\n",
    "class ModelDirect(object):\n",
    "    def __init__(self):\n",
    "        super(ModelDirect, self).__init__()\n",
    "        \"\"\"\n",
    "        This is a simple regression model for comparison of the form\n",
    "        input x --[Regression]--> output\n",
    "        \"\"\"\n",
    "\n",
    "    def fit(self, x_train, y_train):\n",
    "        # get least squares solution\n",
    "        self.beta_hat, _, _, _ = lstsq(x_train, y_train)\n",
    "\n",
    "    def predict(self, x_test):\n",
    "        # make prediction\n",
    "        y_pred = x_test @ self.beta_hat\n",
    "\n",
    "        return y_pred\n",
    "\n",
    "#########################################\n",
    "# Analytical solution\n",
    "#########################################\n",
    "class ModelDirectTheory(ModelPcaTheory):\n",
    "    def compute_bias(self, gamma, n_components, n_features):\n",
    "        n_components = n_features\n",
    "        if gamma < 1:\n",
    "            return 0\n",
    "        else:\n",
    "            # defs for bias\n",
    "            Lambda_d = self.cov_z * self.r_w ** 2 + np.eye(self.n_spikes)\n",
    "            beta_bar = self.r_w * self.cov_z @ \\\n",
    "                       np.linalg.pinv(np.eye(self.n_spikes) + self.r_w ** 2 * self.cov_z) @ self.theta\n",
    "\n",
    "            # bias\n",
    "            if self.P_d is None:\n",
    "                self.P_d = get_eigenvector_product(gamma=gamma,\n",
    "                                                   eigvals=np.diag(self.cov_z) * self.r_w ** 2 + 1.,\n",
    "                                                   n_components=n_components,\n",
    "                                                   n_features=n_features)\n",
    "            temp = Lambda_d - \\\n",
    "                   Lambda_d @ self.P_d - \\\n",
    "                   self.P_d @ Lambda_d + \\\n",
    "                   self.P_d + self.r_w ** 2 * self.P_d @ self.cov_z @ self.P_d\n",
    "            bias = beta_bar.T @ temp @ beta_bar\n",
    "            return bias.item()"
   ]
  },
  {
   "cell_type": "markdown",
   "metadata": {},
   "source": [
    "# Risk on in-distribution data"
   ]
  },
  {
   "cell_type": "markdown",
   "metadata": {},
   "source": [
    "This result corresponds to Figure 5.\n",
    "\n",
    "For smoother averaged results increase mc_runs (in the paper we use 50). \n",
    "\n",
    "For smoother results over $\\gamma$, increase gamma_num (in the paper we use 50)."
   ]
  },
  {
   "cell_type": "code",
   "execution_count": 5,
   "metadata": {},
   "outputs": [],
   "source": [
    "# dataset options\n",
    "n_data_train = 500\n",
    "n_data_test = 500\n",
    "\n",
    "n_spikes = 10\n",
    "sigma_y = 0.1\n",
    "snr_x = 1\n",
    "r_theta = 1\n",
    "alpha_l = 0.1\n",
    "\n",
    "# model options\n",
    "gamma_min, gamma_max, gamma_num = 0.3, 5, 20\n",
    "gamma_list = np.logspace(np.log10(gamma_min), np.log10(gamma_max), gamma_num)\n",
    "n_components = [-40, 8, 10, 50] # -40 corresponds to p-40\n",
    "mc_runs = 15"
   ]
  },
  {
   "cell_type": "markdown",
   "metadata": {},
   "source": [
    "## Run main loop"
   ]
  },
  {
   "cell_type": "code",
   "execution_count": 6,
   "metadata": {},
   "outputs": [
    {
     "data": {
      "application/json": {
       "ascii": false,
       "bar_format": null,
       "colour": null,
       "elapsed": 0.013574361801147461,
       "initial": 0,
       "n": 0,
       "ncols": null,
       "nrows": null,
       "postfix": null,
       "prefix": "mc run 1/15",
       "rate": null,
       "total": 20,
       "unit": "it",
       "unit_divisor": 1000,
       "unit_scale": false
      },
      "application/vnd.jupyter.widget-view+json": {
       "model_id": "247e6b13505644a7a2abff0ecf1bb9dd",
       "version_major": 2,
       "version_minor": 0
      },
      "text/plain": [
       "mc run 1/15:   0%|          | 0/20 [00:00<?, ?it/s]"
      ]
     },
     "metadata": {},
     "output_type": "display_data"
    },
    {
     "data": {
      "application/json": {
       "ascii": false,
       "bar_format": null,
       "colour": null,
       "elapsed": 0.015588760375976562,
       "initial": 0,
       "n": 0,
       "ncols": null,
       "nrows": null,
       "postfix": null,
       "prefix": "mc run 2/15",
       "rate": null,
       "total": 20,
       "unit": "it",
       "unit_divisor": 1000,
       "unit_scale": false
      },
      "application/vnd.jupyter.widget-view+json": {
       "model_id": "aee91d7f0d384806bcd44e2b474ce0ea",
       "version_major": 2,
       "version_minor": 0
      },
      "text/plain": [
       "mc run 2/15:   0%|          | 0/20 [00:00<?, ?it/s]"
      ]
     },
     "metadata": {},
     "output_type": "display_data"
    },
    {
     "data": {
      "application/json": {
       "ascii": false,
       "bar_format": null,
       "colour": null,
       "elapsed": 0.016715526580810547,
       "initial": 0,
       "n": 0,
       "ncols": null,
       "nrows": null,
       "postfix": null,
       "prefix": "mc run 3/15",
       "rate": null,
       "total": 20,
       "unit": "it",
       "unit_divisor": 1000,
       "unit_scale": false
      },
      "application/vnd.jupyter.widget-view+json": {
       "model_id": "7ee4fc3388c1438596887d8ba7c7230f",
       "version_major": 2,
       "version_minor": 0
      },
      "text/plain": [
       "mc run 3/15:   0%|          | 0/20 [00:00<?, ?it/s]"
      ]
     },
     "metadata": {},
     "output_type": "display_data"
    },
    {
     "data": {
      "application/json": {
       "ascii": false,
       "bar_format": null,
       "colour": null,
       "elapsed": 0.018003463745117188,
       "initial": 0,
       "n": 0,
       "ncols": null,
       "nrows": null,
       "postfix": null,
       "prefix": "mc run 4/15",
       "rate": null,
       "total": 20,
       "unit": "it",
       "unit_divisor": 1000,
       "unit_scale": false
      },
      "application/vnd.jupyter.widget-view+json": {
       "model_id": "2b393a60397a4d4c8f80a12e58207656",
       "version_major": 2,
       "version_minor": 0
      },
      "text/plain": [
       "mc run 4/15:   0%|          | 0/20 [00:00<?, ?it/s]"
      ]
     },
     "metadata": {},
     "output_type": "display_data"
    },
    {
     "data": {
      "application/json": {
       "ascii": false,
       "bar_format": null,
       "colour": null,
       "elapsed": 0.01952385902404785,
       "initial": 0,
       "n": 0,
       "ncols": null,
       "nrows": null,
       "postfix": null,
       "prefix": "mc run 5/15",
       "rate": null,
       "total": 20,
       "unit": "it",
       "unit_divisor": 1000,
       "unit_scale": false
      },
      "application/vnd.jupyter.widget-view+json": {
       "model_id": "b635ad0414974d76a82a800ad485e81b",
       "version_major": 2,
       "version_minor": 0
      },
      "text/plain": [
       "mc run 5/15:   0%|          | 0/20 [00:00<?, ?it/s]"
      ]
     },
     "metadata": {},
     "output_type": "display_data"
    },
    {
     "data": {
      "application/json": {
       "ascii": false,
       "bar_format": null,
       "colour": null,
       "elapsed": 0.02011418342590332,
       "initial": 0,
       "n": 0,
       "ncols": null,
       "nrows": null,
       "postfix": null,
       "prefix": "mc run 6/15",
       "rate": null,
       "total": 20,
       "unit": "it",
       "unit_divisor": 1000,
       "unit_scale": false
      },
      "application/vnd.jupyter.widget-view+json": {
       "model_id": "824befb078fd434b9edaf84b96a6d368",
       "version_major": 2,
       "version_minor": 0
      },
      "text/plain": [
       "mc run 6/15:   0%|          | 0/20 [00:00<?, ?it/s]"
      ]
     },
     "metadata": {},
     "output_type": "display_data"
    },
    {
     "data": {
      "application/json": {
       "ascii": false,
       "bar_format": null,
       "colour": null,
       "elapsed": 0.01895284652709961,
       "initial": 0,
       "n": 0,
       "ncols": null,
       "nrows": null,
       "postfix": null,
       "prefix": "mc run 7/15",
       "rate": null,
       "total": 20,
       "unit": "it",
       "unit_divisor": 1000,
       "unit_scale": false
      },
      "application/vnd.jupyter.widget-view+json": {
       "model_id": "6893fbbfa4bf461b93f29bc3905a39a2",
       "version_major": 2,
       "version_minor": 0
      },
      "text/plain": [
       "mc run 7/15:   0%|          | 0/20 [00:00<?, ?it/s]"
      ]
     },
     "metadata": {},
     "output_type": "display_data"
    },
    {
     "data": {
      "application/json": {
       "ascii": false,
       "bar_format": null,
       "colour": null,
       "elapsed": 0.018841028213500977,
       "initial": 0,
       "n": 0,
       "ncols": null,
       "nrows": null,
       "postfix": null,
       "prefix": "mc run 8/15",
       "rate": null,
       "total": 20,
       "unit": "it",
       "unit_divisor": 1000,
       "unit_scale": false
      },
      "application/vnd.jupyter.widget-view+json": {
       "model_id": "ebed26904b6a42879cac0122cc23d840",
       "version_major": 2,
       "version_minor": 0
      },
      "text/plain": [
       "mc run 8/15:   0%|          | 0/20 [00:00<?, ?it/s]"
      ]
     },
     "metadata": {},
     "output_type": "display_data"
    },
    {
     "data": {
      "application/json": {
       "ascii": false,
       "bar_format": null,
       "colour": null,
       "elapsed": 0.030161619186401367,
       "initial": 0,
       "n": 0,
       "ncols": null,
       "nrows": null,
       "postfix": null,
       "prefix": "mc run 9/15",
       "rate": null,
       "total": 20,
       "unit": "it",
       "unit_divisor": 1000,
       "unit_scale": false
      },
      "application/vnd.jupyter.widget-view+json": {
       "model_id": "df77f1c3d67d47e9a4a772607f8e6ac5",
       "version_major": 2,
       "version_minor": 0
      },
      "text/plain": [
       "mc run 9/15:   0%|          | 0/20 [00:00<?, ?it/s]"
      ]
     },
     "metadata": {},
     "output_type": "display_data"
    },
    {
     "data": {
      "application/json": {
       "ascii": false,
       "bar_format": null,
       "colour": null,
       "elapsed": 0.01909470558166504,
       "initial": 0,
       "n": 0,
       "ncols": null,
       "nrows": null,
       "postfix": null,
       "prefix": "mc run 10/15",
       "rate": null,
       "total": 20,
       "unit": "it",
       "unit_divisor": 1000,
       "unit_scale": false
      },
      "application/vnd.jupyter.widget-view+json": {
       "model_id": "13a181f755814b49a5b4edc441aca4fd",
       "version_major": 2,
       "version_minor": 0
      },
      "text/plain": [
       "mc run 10/15:   0%|          | 0/20 [00:00<?, ?it/s]"
      ]
     },
     "metadata": {},
     "output_type": "display_data"
    },
    {
     "data": {
      "application/json": {
       "ascii": false,
       "bar_format": null,
       "colour": null,
       "elapsed": 0.018363237380981445,
       "initial": 0,
       "n": 0,
       "ncols": null,
       "nrows": null,
       "postfix": null,
       "prefix": "mc run 11/15",
       "rate": null,
       "total": 20,
       "unit": "it",
       "unit_divisor": 1000,
       "unit_scale": false
      },
      "application/vnd.jupyter.widget-view+json": {
       "model_id": "ddb2e3c8d65146dea4d470f43ec7bf0b",
       "version_major": 2,
       "version_minor": 0
      },
      "text/plain": [
       "mc run 11/15:   0%|          | 0/20 [00:00<?, ?it/s]"
      ]
     },
     "metadata": {},
     "output_type": "display_data"
    },
    {
     "data": {
      "application/json": {
       "ascii": false,
       "bar_format": null,
       "colour": null,
       "elapsed": 0.017611026763916016,
       "initial": 0,
       "n": 0,
       "ncols": null,
       "nrows": null,
       "postfix": null,
       "prefix": "mc run 12/15",
       "rate": null,
       "total": 20,
       "unit": "it",
       "unit_divisor": 1000,
       "unit_scale": false
      },
      "application/vnd.jupyter.widget-view+json": {
       "model_id": "af6c928f71034d13a9a4f11fbd24325d",
       "version_major": 2,
       "version_minor": 0
      },
      "text/plain": [
       "mc run 12/15:   0%|          | 0/20 [00:00<?, ?it/s]"
      ]
     },
     "metadata": {},
     "output_type": "display_data"
    },
    {
     "data": {
      "application/json": {
       "ascii": false,
       "bar_format": null,
       "colour": null,
       "elapsed": 0.019963502883911133,
       "initial": 0,
       "n": 0,
       "ncols": null,
       "nrows": null,
       "postfix": null,
       "prefix": "mc run 13/15",
       "rate": null,
       "total": 20,
       "unit": "it",
       "unit_divisor": 1000,
       "unit_scale": false
      },
      "application/vnd.jupyter.widget-view+json": {
       "model_id": "9246cdf6a7234627a9b8d9ce724664e5",
       "version_major": 2,
       "version_minor": 0
      },
      "text/plain": [
       "mc run 13/15:   0%|          | 0/20 [00:00<?, ?it/s]"
      ]
     },
     "metadata": {},
     "output_type": "display_data"
    },
    {
     "data": {
      "application/json": {
       "ascii": false,
       "bar_format": null,
       "colour": null,
       "elapsed": 0.019356727600097656,
       "initial": 0,
       "n": 0,
       "ncols": null,
       "nrows": null,
       "postfix": null,
       "prefix": "mc run 14/15",
       "rate": null,
       "total": 20,
       "unit": "it",
       "unit_divisor": 1000,
       "unit_scale": false
      },
      "application/vnd.jupyter.widget-view+json": {
       "model_id": "06de650d1c8d4f2abcdfbe27ee588f99",
       "version_major": 2,
       "version_minor": 0
      },
      "text/plain": [
       "mc run 14/15:   0%|          | 0/20 [00:00<?, ?it/s]"
      ]
     },
     "metadata": {},
     "output_type": "display_data"
    },
    {
     "data": {
      "application/json": {
       "ascii": false,
       "bar_format": null,
       "colour": null,
       "elapsed": 0.018859148025512695,
       "initial": 0,
       "n": 0,
       "ncols": null,
       "nrows": null,
       "postfix": null,
       "prefix": "mc run 15/15",
       "rate": null,
       "total": 20,
       "unit": "it",
       "unit_divisor": 1000,
       "unit_scale": false
      },
      "application/vnd.jupyter.widget-view+json": {
       "model_id": "542db0a4502d42aa8bc66abf9ed7c960",
       "version_major": 2,
       "version_minor": 0
      },
      "text/plain": [
       "mc run 15/15:   0%|          | 0/20 [00:00<?, ?it/s]"
      ]
     },
     "metadata": {},
     "output_type": "display_data"
    }
   ],
   "source": [
    "seed = 42\n",
    "\n",
    "##############################\n",
    "# Setup\n",
    "##############################\n",
    "# define spikes of data generator\n",
    "lambda_spikes = np.exp(-alpha_l * np.linspace(0, 1, n_spikes))\n",
    "\n",
    "# define risk\n",
    "compute_risk = lambda y_, y_pred_: 1 / len(y_) * np.linalg.norm(y_ - y_pred_) ** 2\n",
    "\n",
    "# define models to run\n",
    "models = ['direct_theory', 'direct_sim'] + \\\n",
    "         [f'pca_theory_{c}' for c in n_components] + \\\n",
    "         [f'pca_sim_{c}' for c in n_components]\n",
    "models_main = ['direct_theory', 'direct_sim', 'pca_theory', 'pca_sim',]\n",
    "\n",
    "# allocation\n",
    "risk_logs = dict()\n",
    "for lg in models:\n",
    "    risk_logs[lg] = np.zeros([mc_runs, gamma_num])\n",
    "\n",
    "#########################################\n",
    "# overparameterization loop\n",
    "#########################################\n",
    "# loop over averagings\n",
    "for i_mc, mc in enumerate(range(mc_runs)):\n",
    "    for i_gamma, gamma in enumerate(tqdm(gamma_list, desc='mc run {}/{}'.format(i_mc + 1, mc_runs), leave=True)):\n",
    "        # compute number of features\n",
    "        n_features = int(gamma * n_data_train)\n",
    "        \n",
    "        # n_components as subtraction of n_features (because of p-components)\n",
    "        n_components_true = [int(gamma * n_data_train) + n_components if n_components < 1 else n_components for n_components in n_components]\n",
    "        \n",
    "        ######################################\n",
    "        # generate data\n",
    "        ######################################\n",
    "        data = data_spikedcov(n_data_train=n_data_train, n_data_test=n_data_test,\n",
    "                              n_features=n_features,\n",
    "                              lambda_spikes=lambda_spikes,\n",
    "                              sigma_y=sigma_y, snr_x=snr_x, r_theta=r_theta)\n",
    "        (x_train, y_train, x_test, y_test), data_parameters = data\n",
    "        \n",
    "        ######################################\n",
    "        # compute risk for each model\n",
    "        ######################################\n",
    "        # loop over all models to run\n",
    "        for model in models_main:\n",
    "            if model == 'direct_sim':\n",
    "                # define model\n",
    "                model_direct = ModelDirect()\n",
    "                # fit model\n",
    "                model_direct.fit(x_train, y_train)\n",
    "                # predict\n",
    "                y_pred = model_direct.predict(x_test)\n",
    "                # compute risk\n",
    "                risk_logs[model][i_mc, i_gamma] = compute_risk(y_test, y_pred)\n",
    "            elif model == 'direct_theory':\n",
    "                # define model\n",
    "                model_direct_theory = ModelDirectTheory(cov_z=data_parameters['cov_z'],\n",
    "                                                        r_w=data_parameters['r_w'],\n",
    "                                                        theta=data_parameters['theta'],\n",
    "                                                        sigma_y=sigma_y,\n",
    "                                                        n_spikes=n_spikes)\n",
    "                # compute noise\n",
    "                noise = model_direct_theory.sigma2_nu\n",
    "                # compute bias\n",
    "                bias = model_direct_theory.compute_bias(gamma, n_features, n_features)\n",
    "                # compute variance\n",
    "                variance = model_direct_theory.compute_var(gamma, n_features, n_features, n_data_train)\n",
    "                # compute risk\n",
    "                risk_logs[model][i_mc, i_gamma] = bias + variance + noise\n",
    "            elif model.startswith('pca_sim'):\n",
    "                for i, c in enumerate(n_components_true):\n",
    "                    # define model\n",
    "                    model_pca = ModelPca(n_components=c)\n",
    "                    # fit model\n",
    "                    model_pca.fit(x_train, y_train)\n",
    "                    # predict\n",
    "                    y_pred = model_pca.predict(x_test)\n",
    "                    # compute risk                    \n",
    "                    risk_logs[f'{model}_{n_components[i]}'][i_mc, i_gamma] = compute_risk(y_test, y_pred)\n",
    "            elif model.startswith('pca_theory'):\n",
    "                for i, c in enumerate(n_components_true):\n",
    "                    # define model\n",
    "                    model_pca_theory = ModelPcaTheory(cov_z=data_parameters['cov_z'],\n",
    "                                                      r_w=data_parameters['r_w'],\n",
    "                                                      theta=data_parameters['theta'],\n",
    "                                                      sigma_y=sigma_y,\n",
    "                                                      n_spikes=n_spikes)\n",
    "                    # compute noise\n",
    "                    noise = model_pca_theory.sigma2_nu\n",
    "                    # compute bias\n",
    "                    bias = model_pca_theory.compute_bias(gamma, c, n_features)\n",
    "                    # compute variance\n",
    "                    variance = model_pca_theory.compute_var(gamma, c, n_features, n_data_train)\n",
    "                    # compute risk\n",
    "                    risk_logs[f'{model}_{n_components[i]}'][i_mc, i_gamma] = bias + variance + noise"
   ]
  },
  {
   "cell_type": "markdown",
   "metadata": {},
   "source": [
    "## Analysis of results"
   ]
  },
  {
   "cell_type": "code",
   "execution_count": 7,
   "metadata": {},
   "outputs": [
    {
     "name": "stderr",
     "output_type": "stream",
     "text": [
      "/home/daniel/anaconda3/lib/python3.7/site-packages/ipykernel_launcher.py:48: UserWarning: Matplotlib is currently using module://matplotlib_inline.backend_inline, which is a non-GUI backend, so cannot show the figure.\n"
     ]
    },
    {
     "data": {
      "image/png": "[encoded data removed]",
      "text/plain": [
       "<Figure size 640x480 with 1 Axes>"
      ]
     },
     "metadata": {},
     "output_type": "display_data"
    }
   ],
   "source": [
    "###############################\n",
    "# average over mc runs\n",
    "###############################\n",
    "risk_logs_median = dict()\n",
    "risk_logs_25quantile = dict()\n",
    "risk_logs_75quantile = dict()\n",
    "for lg in models:\n",
    "    risk_logs_median[lg] = np.median(risk_logs[lg], axis=0)\n",
    "    risk_logs_25quantile[lg] = np.quantile(risk_logs[lg], 0.25, axis=0)\n",
    "    risk_logs_75quantile[lg] = np.quantile(risk_logs[lg], 0.75, axis=0)\n",
    "    \n",
    "###############################\n",
    "# show results\n",
    "###############################\n",
    "fig, ax = plt.subplots(1, 1, figsize=(6.4, 4.8))\n",
    "\n",
    "color_map = {}  # To store colors for each simulation/theory name\n",
    "for key in risk_logs_median:\n",
    "    # get same color for theory/simulation\n",
    "    name = key.replace('_sim', '').replace('_theory', '')\n",
    "    if name not in color_map:\n",
    "        color_map[name] = plt.cm.jet(len(color_map) / (len(n_components) + 2))  # Assign color based on index\n",
    "    color = color_map[name]\n",
    "    marker = 'x' if 'pca' in key else 'o'\n",
    "    \n",
    "    # label\n",
    "    label = key.split('_')[0]\n",
    "    \n",
    "    # plot stuff\n",
    "    if '_sim' in key:\n",
    "        yerr_low = risk_logs_median[key] - risk_logs_25quantile[key]\n",
    "        yerr_high = risk_logs_75quantile[key] - risk_logs_median[key]\n",
    "        ax.errorbar(gamma_list, \n",
    "                    risk_logs_median[key], \n",
    "                    yerr=(yerr_low, yerr_high), \n",
    "                    label=key.replace('_', ' '),\n",
    "                    linestyle='None', marker=marker, markerfacecolor='None', color=color)\n",
    "    else:\n",
    "        linestyle = 'dashed' if label == 'direct' else 'solid'\n",
    "        ax.plot(gamma_list, risk_logs_median[key], label=key.replace('_', ' '),\n",
    "                linestyle=linestyle, alpha=0.5, color=color)\n",
    "\n",
    "ax.set_xscale('log'), ax.set_yscale('log')\n",
    "ax.set_xlabel(r'$\\gamma$')\n",
    "ax.set_ylabel('Risk')\n",
    "ax.set_title(r'risk spiked cov. ($\\alpha_l$={}), $d$={}'.format(alpha_l, n_spikes))\n",
    "lgd = ax.legend(bbox_to_anchor=(1.05, 1), loc='upper left', borderaxespad=0.)\n",
    "fig.show()"
   ]
  }
 ],
 "metadata": {
  "kernelspec": {
   "display_name": "Python 3",
   "language": "python",
   "name": "python3"
  },
  "language_info": {
   "codemirror_mode": {
    "name": "ipython",
    "version": 3
   },
   "file_extension": ".py",
   "mimetype": "text/x-python",
   "name": "python",
   "nbconvert_exporter": "python",
   "pygments_lexer": "ipython3",
   "version": "3.7.4"
  }
 },
 "nbformat": 4,
 "nbformat_minor": 2
}
